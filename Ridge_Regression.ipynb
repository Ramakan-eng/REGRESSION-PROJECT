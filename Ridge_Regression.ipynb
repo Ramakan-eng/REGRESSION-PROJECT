{
 "cells": [
  {
   "cell_type": "markdown",
   "id": "c389416d-f245-4ee2-9716-cad2658d623a",
   "metadata": {},
   "source": [
    "### Step-1:Business Problem Understanding\n",
    "\n",
    "- The goal is to predict a person's medical expenses based on factors like age, BMI, smoking status, and other demographic information. This helps in estimating healthcare costs and making informed insurance or medical decisions."
   ]
  },
  {
   "cell_type": "code",
   "execution_count": 1,
   "id": "49e70def-d608-4c55-a587-df37cc679c47",
   "metadata": {},
   "outputs": [],
   "source": [
    "import pandas as pd \n",
    "import numpy as np \n",
    "import matplotlib.pyplot as plt\n",
    "import seaborn as sns\n",
    "\n",
    "import warnings \n",
    "warnings.simplefilter('ignore')"
   ]
  },
  {
   "cell_type": "code",
   "execution_count": 2,
   "id": "f9a406bc-726a-402d-a2c5-f2ace985dacc",
   "metadata": {},
   "outputs": [],
   "source": [
    "from sklearn.model_selection import train_test_split\n",
    "\n",
    "from sklearn.linear_model import Ridge\n",
    "\n",
    "from sklearn.metrics import r2_score \n",
    "\n",
    "from sklearn.model_selection import cross_val_score\n",
    "\n",
    "from sklearn.model_selection import GridSearchCV"
   ]
  },
  {
   "cell_type": "markdown",
   "id": "2e0c8524-e2d5-4eb8-a628-9a1468ba8937",
   "metadata": {},
   "source": [
    "### Step-2 :Data Understanding\n",
    "\n",
    "**Load Data & Understand every variable**"
   ]
  },
  {
   "cell_type": "code",
   "execution_count": 3,
   "id": "f5f3e1f6-3d9a-45f4-97b9-ebe59f4dd165",
   "metadata": {},
   "outputs": [
    {
     "data": {
      "text/html": [
       "<div>\n",
       "<style scoped>\n",
       "    .dataframe tbody tr th:only-of-type {\n",
       "        vertical-align: middle;\n",
       "    }\n",
       "\n",
       "    .dataframe tbody tr th {\n",
       "        vertical-align: top;\n",
       "    }\n",
       "\n",
       "    .dataframe thead th {\n",
       "        text-align: right;\n",
       "    }\n",
       "</style>\n",
       "<table border=\"1\" class=\"dataframe\">\n",
       "  <thead>\n",
       "    <tr style=\"text-align: right;\">\n",
       "      <th></th>\n",
       "      <th>age</th>\n",
       "      <th>sex</th>\n",
       "      <th>bmi</th>\n",
       "      <th>children</th>\n",
       "      <th>smoker</th>\n",
       "      <th>region</th>\n",
       "      <th>expenses</th>\n",
       "    </tr>\n",
       "  </thead>\n",
       "  <tbody>\n",
       "    <tr>\n",
       "      <th>0</th>\n",
       "      <td>19</td>\n",
       "      <td>female</td>\n",
       "      <td>27.9</td>\n",
       "      <td>0</td>\n",
       "      <td>yes</td>\n",
       "      <td>southwest</td>\n",
       "      <td>16884.92</td>\n",
       "    </tr>\n",
       "    <tr>\n",
       "      <th>1</th>\n",
       "      <td>18</td>\n",
       "      <td>male</td>\n",
       "      <td>33.8</td>\n",
       "      <td>1</td>\n",
       "      <td>no</td>\n",
       "      <td>southeast</td>\n",
       "      <td>1725.55</td>\n",
       "    </tr>\n",
       "    <tr>\n",
       "      <th>2</th>\n",
       "      <td>28</td>\n",
       "      <td>male</td>\n",
       "      <td>33.0</td>\n",
       "      <td>3</td>\n",
       "      <td>no</td>\n",
       "      <td>southeast</td>\n",
       "      <td>4449.46</td>\n",
       "    </tr>\n",
       "    <tr>\n",
       "      <th>3</th>\n",
       "      <td>33</td>\n",
       "      <td>male</td>\n",
       "      <td>22.7</td>\n",
       "      <td>0</td>\n",
       "      <td>no</td>\n",
       "      <td>northwest</td>\n",
       "      <td>21984.47</td>\n",
       "    </tr>\n",
       "    <tr>\n",
       "      <th>4</th>\n",
       "      <td>32</td>\n",
       "      <td>male</td>\n",
       "      <td>28.9</td>\n",
       "      <td>0</td>\n",
       "      <td>no</td>\n",
       "      <td>northwest</td>\n",
       "      <td>3866.86</td>\n",
       "    </tr>\n",
       "  </tbody>\n",
       "</table>\n",
       "</div>"
      ],
      "text/plain": [
       "   age     sex   bmi  children smoker     region  expenses\n",
       "0   19  female  27.9         0    yes  southwest  16884.92\n",
       "1   18    male  33.8         1     no  southeast   1725.55\n",
       "2   28    male  33.0         3     no  southeast   4449.46\n",
       "3   33    male  22.7         0     no  northwest  21984.47\n",
       "4   32    male  28.9         0     no  northwest   3866.86"
      ]
     },
     "execution_count": 3,
     "metadata": {},
     "output_type": "execute_result"
    }
   ],
   "source": [
    "df = pd.read_csv(r'C:\\Users\\sahur\\Downloads\\insurance.csv')\n",
    "df.head()"
   ]
  },
  {
   "cell_type": "markdown",
   "id": "6f3dfa51-cf9e-49b3-be0b-50de76cea014",
   "metadata": {},
   "source": [
    "**Dataset Understanding**"
   ]
  },
  {
   "cell_type": "code",
   "execution_count": 4,
   "id": "a9337ed4-18ff-4bbb-aa94-903c89266674",
   "metadata": {},
   "outputs": [
    {
     "data": {
      "text/plain": [
       "(1338, 7)"
      ]
     },
     "execution_count": 4,
     "metadata": {},
     "output_type": "execute_result"
    }
   ],
   "source": [
    "df.shape"
   ]
  },
  {
   "cell_type": "markdown",
   "id": "b983f611-6cd0-4298-88d1-4a2dd8a0b6dd",
   "metadata": {},
   "source": [
    "**Step - 3:Data Preprocessing**"
   ]
  },
  {
   "cell_type": "code",
   "execution_count": 5,
   "id": "e5322940-74f3-4d87-b339-896c224360d4",
   "metadata": {},
   "outputs": [
    {
     "data": {
      "text/plain": [
       "1"
      ]
     },
     "execution_count": 5,
     "metadata": {},
     "output_type": "execute_result"
    }
   ],
   "source": [
    "df.duplicated().sum()"
   ]
  },
  {
   "cell_type": "code",
   "execution_count": 6,
   "id": "998d1130-6e5c-4324-a13d-32857b7dd1bb",
   "metadata": {},
   "outputs": [],
   "source": [
    "df.drop_duplicates(inplace = True)"
   ]
  },
  {
   "cell_type": "code",
   "execution_count": 7,
   "id": "86551ea9-c2de-495d-b7fc-48fee983e95a",
   "metadata": {},
   "outputs": [
    {
     "data": {
      "text/plain": [
       "(1337, 7)"
      ]
     },
     "execution_count": 7,
     "metadata": {},
     "output_type": "execute_result"
    }
   ],
   "source": [
    "df.shape"
   ]
  },
  {
   "cell_type": "code",
   "execution_count": 8,
   "id": "cedbfa27-4d30-400f-b776-544103bf2191",
   "metadata": {},
   "outputs": [],
   "source": [
    "# drop the region column \n",
    "df.drop('region',axis = 1,inplace = True)"
   ]
  },
  {
   "cell_type": "code",
   "execution_count": 22,
   "id": "d465ef21-31e9-4a44-bd41-6baf633d3783",
   "metadata": {},
   "outputs": [],
   "source": [
    "# encoding sex column\n",
    "df['sex'].replace({'female':0,'male':1},inplace = True)\n",
    "\n",
    "# encoding 'smoker' column \n",
    "df['smoker'].replace({'no':0,'yes':1},inplace = True)"
   ]
  },
  {
   "cell_type": "code",
   "execution_count": 23,
   "id": "127da79b-6b35-489b-b69f-31ec1a096b59",
   "metadata": {},
   "outputs": [],
   "source": [
    "x = df.drop('expenses',axis = 1)\n",
    "y = df['expenses']"
   ]
  },
  {
   "cell_type": "code",
   "execution_count": 24,
   "id": "00c99193-3a2e-401c-af84-db84424ad43a",
   "metadata": {},
   "outputs": [],
   "source": [
    "x_train,x_test,y_train,y_test = train_test_split(x,y,train_size = 0.8,random_state = 9)"
   ]
  },
  {
   "cell_type": "markdown",
   "id": "bd246d50-e35f-41a5-b1a3-6887b23778bb",
   "metadata": {},
   "source": [
    "### Step-4 :Modelling\n",
    "\n",
    "**Applying Hyperparameter tuning for Ridge Regression**"
   ]
  },
  {
   "cell_type": "code",
   "execution_count": 25,
   "id": "07514b02-3473-4740-9767-3fe85c2ebafc",
   "metadata": {},
   "outputs": [
    {
     "data": {
      "text/plain": [
       "{'alpha': 1}"
      ]
     },
     "execution_count": 25,
     "metadata": {},
     "output_type": "execute_result"
    }
   ],
   "source": [
    "# model\n",
    "estimator = Ridge()\n",
    "\n",
    "# parameters & values\n",
    "param_grid = {'alpha':list(range(1,100))}\n",
    "\n",
    "# Identifying the best value of the paramer within given values for the given data \n",
    "model_hp = GridSearchCV(estimator,param_grid,cv=5,scoring = 'r2')\n",
    "\n",
    "model_hp.fit(x_train,y_train)\n",
    "model_hp.best_params_"
   ]
  },
  {
   "cell_type": "markdown",
   "id": "0ab9be99-1db8-49f7-aed0-8690c30e258b",
   "metadata": {},
   "source": [
    "**Modelling Ridge Regression using best hyperparameters**"
   ]
  },
  {
   "cell_type": "code",
   "execution_count": 27,
   "id": "d9ce58a2-d8d1-40c3-a3b6-9a7f6b53bcdd",
   "metadata": {},
   "outputs": [
    {
     "name": "stdout",
     "output_type": "stream",
     "text": [
      "Intercept: -12131.383174500314\n",
      "Coefficient: [  264.4786592   -112.37962155   318.56350557   413.12069122\n",
      " 23853.85951773]\n"
     ]
    }
   ],
   "source": [
    "# Modelling\n",
    "\n",
    "ridge_best = Ridge(alpha = 1)\n",
    "ridge_best.fit(x_train,y_train)\n",
    "\n",
    "print('Intercept:',ridge_best.intercept_)\n",
    "print('Coefficient:',ridge_best.coef_)"
   ]
  },
  {
   "cell_type": "markdown",
   "id": "1f1c2df7-3015-40a1-8fc4-8da76dfa18f1",
   "metadata": {},
   "source": [
    "### Step-5 :Evaluation \n",
    "\n",
    "**Evaluation on Trian Data**"
   ]
  },
  {
   "cell_type": "code",
   "execution_count": 30,
   "id": "d6299bbd-be57-43db-ad79-8bdb623ac39d",
   "metadata": {},
   "outputs": [
    {
     "name": "stdout",
     "output_type": "stream",
     "text": [
      "Train R2: 0.7593639632162803\n",
      "cross validation score: 0.7534705953944542\n"
     ]
    }
   ],
   "source": [
    "ypred_train = ridge_best.predict(x_train)\n",
    "\n",
    "print('Train R2:',r2_score(y_train,ypred_train))\n",
    "print('cross validation score:',cross_val_score(ridge_best,x_train,y_train,cv = 5).mean())"
   ]
  },
  {
   "cell_type": "markdown",
   "id": "1f9d78fe-d319-4c28-8220-655720df5970",
   "metadata": {},
   "source": [
    "**Evaluation on Test Data**"
   ]
  },
  {
   "cell_type": "code",
   "execution_count": 31,
   "id": "f9fdca2e-6007-4ba8-b176-22923fedfc7b",
   "metadata": {},
   "outputs": [
    {
     "name": "stdout",
     "output_type": "stream",
     "text": [
      "Test R2: 0.7008629672692219\n"
     ]
    }
   ],
   "source": [
    "ypred_test = ridge_best.predict(x_test)\n",
    "print('Test R2:',r2_score(y_test,ypred_test))"
   ]
  },
  {
   "cell_type": "markdown",
   "id": "f9b57d24-6023-4caa-ba17-6517d0de9caf",
   "metadata": {},
   "source": [
    "#### Prediction on Unknown Data "
   ]
  },
  {
   "cell_type": "markdown",
   "id": "58a60420-9586-46c1-8e7d-65573707189d",
   "metadata": {},
   "source": [
    "**Data**"
   ]
  },
  {
   "cell_type": "code",
   "execution_count": 32,
   "id": "5828c8d6-4174-4ec6-9400-b8fd6fb7fc14",
   "metadata": {},
   "outputs": [],
   "source": [
    "input_data = {'age':31,\n",
    "              'sex':'female',\n",
    "              'bmi':25.74,\n",
    "              'children':0,\n",
    "              'smoker':'no',\n",
    "              'region':'northeast' \n",
    "             }\n",
    "\n",
    "              \n",
    "            "
   ]
  },
  {
   "cell_type": "markdown",
   "id": "1b1debe2-852c-4380-af76-de6b15669f7c",
   "metadata": {},
   "source": [
    "**Step-1:preprocessing the data**"
   ]
  },
  {
   "cell_type": "code",
   "execution_count": 42,
   "id": "88931e1f-2e65-4297-8f34-0fa8cb2dee1f",
   "metadata": {},
   "outputs": [
    {
     "data": {
      "text/html": [
       "<div>\n",
       "<style scoped>\n",
       "    .dataframe tbody tr th:only-of-type {\n",
       "        vertical-align: middle;\n",
       "    }\n",
       "\n",
       "    .dataframe tbody tr th {\n",
       "        vertical-align: top;\n",
       "    }\n",
       "\n",
       "    .dataframe thead th {\n",
       "        text-align: right;\n",
       "    }\n",
       "</style>\n",
       "<table border=\"1\" class=\"dataframe\">\n",
       "  <thead>\n",
       "    <tr style=\"text-align: right;\">\n",
       "      <th></th>\n",
       "      <th>age</th>\n",
       "      <th>sex</th>\n",
       "      <th>bmi</th>\n",
       "      <th>children</th>\n",
       "      <th>smoker</th>\n",
       "    </tr>\n",
       "  </thead>\n",
       "  <tbody>\n",
       "    <tr>\n",
       "      <th>0</th>\n",
       "      <td>31</td>\n",
       "      <td>0</td>\n",
       "      <td>25.74</td>\n",
       "      <td>0</td>\n",
       "      <td>0</td>\n",
       "    </tr>\n",
       "  </tbody>\n",
       "</table>\n",
       "</div>"
      ],
      "text/plain": [
       "   age  sex    bmi  children  smoker\n",
       "0   31    0  25.74         0       0"
      ]
     },
     "execution_count": 42,
     "metadata": {},
     "output_type": "execute_result"
    }
   ],
   "source": [
    "df_test = pd.DataFrame(input_data,index = [0])\n",
    "\n",
    "df_test.drop('region',axis = 1,inplace = True)\n",
    "df_test['sex'].replace({'female':0,'male':1},inplace = True)\n",
    "\n",
    "df_test['smoker'].replace({'no':0,'yes':1},inplace = True)\n",
    "\n",
    "df_test"
   ]
  },
  {
   "cell_type": "markdown",
   "id": "75931f7c-208f-411a-946f-bd4586f1bd54",
   "metadata": {},
   "source": [
    "**step-2:predict**"
   ]
  },
  {
   "cell_type": "code",
   "execution_count": 43,
   "id": "4985202e-7826-4178-95ee-f0a53809b331",
   "metadata": {},
   "outputs": [
    {
     "data": {
      "text/plain": [
       "array([4267.27989412])"
      ]
     },
     "execution_count": 43,
     "metadata": {},
     "output_type": "execute_result"
    }
   ],
   "source": [
    "ridge_best.predict(df_test)"
   ]
  },
  {
   "cell_type": "code",
   "execution_count": null,
   "id": "b72929ef-7b70-4729-871b-8ccc9d40949e",
   "metadata": {},
   "outputs": [],
   "source": []
  }
 ],
 "metadata": {
  "kernelspec": {
   "display_name": "Python 3 (ipykernel)",
   "language": "python",
   "name": "python3"
  },
  "language_info": {
   "codemirror_mode": {
    "name": "ipython",
    "version": 3
   },
   "file_extension": ".py",
   "mimetype": "text/x-python",
   "name": "python",
   "nbconvert_exporter": "python",
   "pygments_lexer": "ipython3",
   "version": "3.12.4"
  }
 },
 "nbformat": 4,
 "nbformat_minor": 5
}
